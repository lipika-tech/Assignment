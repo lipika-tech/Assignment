{
 "cells": [
  {
   "cell_type": "markdown",
   "id": "6a1819c5",
   "metadata": {},
   "source": [
    "# Lipika Sharma - Maths Assignment 2\n",
    "\n",
    "## Gram-Schmidt Algorithm and QR decomposition\n",
    "\n",
    "Q1 (i)Write a code to generate a random matrix A of size m × n with m > n\n",
    "and calculate its Frobenius norm, ∥ · ∥F . The entries of A must be of\n",
    "the form r.dddd (example 5.4316). The inputs are the positive integers\n",
    "m and n and the output should display the the dimensions and the\n",
    "calculated norm value.\n",
    "\n"
   ]
  },
  {
   "cell_type": "code",
   "execution_count": 19,
   "id": "846cd47f",
   "metadata": {},
   "outputs": [
    {
     "name": "stdout",
     "output_type": "stream",
     "text": [
      "Number of Rows: 5\n",
      "Number of Columns: 4\n",
      "[[0.25322791 0.99249914 0.78692971 0.10459126]\n",
      " [0.22720487 0.96883742 0.79980218 0.88917158]\n",
      " [0.28608186 0.31685692 0.5964002  0.57763191]\n",
      " [0.97515283 0.74874442 0.02978661 0.53523997]\n",
      " [0.41404111 0.32982676 0.08579154 0.7232963 ]]\n"
     ]
    }
   ],
   "source": [
    "import numpy as np\n",
    "\n",
    "# defining a function in input arguements\n",
    "# as row and column numbers\n",
    "def randomization_matrix(m,n):\n",
    "    x = np.random.random([m,n])\n",
    "    return x\n",
    "    \n",
    "m = int(input('Number of Rows: '))\n",
    "n = int(input('Number of Columns: '))\n",
    "\n",
    "\n",
    "# printing the random matrix\n",
    "mat = randomization_matrix(m,n)\n",
    "print(mat)\n",
    "\n",
    "\n"
   ]
  },
  {
   "cell_type": "code",
   "execution_count": 20,
   "id": "18eac2bc",
   "metadata": {},
   "outputs": [
    {
     "name": "stdout",
     "output_type": "stream",
     "text": [
      "the no of rows : 5\n",
      "the no of columns: 4\n",
      "2.7534\n"
     ]
    }
   ],
   "source": [
    "from math import sqrt\n",
    "\n",
    "\n",
    "def fbnsnorm (mat):\n",
    "    sumofmatrix =0\n",
    "    for i in range (len(mat)):\n",
    "        for j in range (len(mat[0])):\n",
    "            sumofmatrix+= pow(mat[i][j],2)\n",
    "            \n",
    "    result = sqrt(sumofmatrix)\n",
    "    return round(result,5)\n",
    "print(\"the no of rows :\",len(mat))\n",
    "print (\"the no of columns:\",len(mat[0]))\n",
    "\n",
    "print (fbnsnorm (mat))"
   ]
  },
  {
   "cell_type": "markdown",
   "id": "c233cbea",
   "metadata": {},
   "source": [
    "ii) Write a code to decide if Gram-Schmidt Algorithm can be applied to\n",
    "columns of a given matrix A through calculation of rank. The code\n",
    "should print appropriate messages indicating whether Gram-Schmidt is\n",
    "applicable on columns of the matrix or not."
   ]
  },
  {
   "cell_type": "code",
   "execution_count": 21,
   "id": "980537b3",
   "metadata": {},
   "outputs": [
    {
     "name": "stdout",
     "output_type": "stream",
     "text": [
      "Rank of the Matrix is: 2\n"
     ]
    }
   ],
   "source": [
    "# Python 3 program to find rank of a matrix\n",
    "class rankMatrix(object):\n",
    "\tdef __init__(self, Matrix):\n",
    "\t\tself.R = len(Matrix)\n",
    "\t\tself.C = len(Matrix[0])\n",
    "\t\t\n",
    "\t# Function for exchanging two rows of a matrix\n",
    "\tdef swap(self, Matrix, row1, row2, col):\n",
    "\t\tfor i in range(col):\n",
    "\t\t\ttemp = Matrix[row1][i]\n",
    "\t\t\tMatrix[row1][i] = Matrix[row2][i]\n",
    "\t\t\tMatrix[row2][i] = temp\n",
    "\t\t\t\n",
    "\t# Function to Display a matrix\n",
    "\tdef Display(self, Matrix, row, col):\n",
    "\t\tfor i in range(row):\n",
    "\t\t\tfor j in range(col):\n",
    "\t\t\t\tprint (\" \" + str(Matrix[i][j]))\n",
    "\t\t\tprint ('\\n')\n",
    "\t\t\t\n",
    "\t# Find rank of a matrix\n",
    "\tdef rankOfMatrix(self, Matrix):\n",
    "\t\trank = self.C\n",
    "\t\tfor row in range(0, rank, 1):\n",
    "\t\t\t\n",
    "\t\t\t# Before we visit current row\n",
    "\t\t\t# 'row', we make sure that\n",
    "\t\t\t# mat[row][0],....mat[row][row-1]\n",
    "\t\t\t# are 0.\n",
    "\t\n",
    "\t\t\t# Diagonal element is not zero\n",
    "\t\t\tif Matrix[row][row] != 0:\n",
    "\t\t\t\tfor col in range(0, self.R, 1):\n",
    "\t\t\t\t\tif col != row:\n",
    "\t\t\t\t\t\t\n",
    "\t\t\t\t\t\t# This makes all entries of current\n",
    "\t\t\t\t\t\t# column as 0 except entry 'mat[row][row]'\n",
    "\t\t\t\t\t\tmultiplier = (Matrix[col][row] /\n",
    "\t\t\t\t\t\t\t\t\tMatrix[row][row])\n",
    "\t\t\t\t\t\tfor i in range(rank):\n",
    "\t\t\t\t\t\t\tMatrix[col][i] -= (multiplier *\n",
    "\t\t\t\t\t\t\t\t\t\t\tMatrix[row][i])\n",
    "\t\t\t\t\t\t\t\t\t\t\t\t\n",
    "\t\t\t# Diagonal element is already zero.\n",
    "\t\t\t# Two cases arise:\n",
    "\t\t\t# 1) If there is a row below it\n",
    "\t\t\t# with non-zero entry, then swap\n",
    "\t\t\t# this row with that row and process\n",
    "\t\t\t# that row\n",
    "\t\t\t# 2) If all elements in current\n",
    "\t\t\t# column below mat[r][row] are 0,\n",
    "\t\t\t# then remove this column by\n",
    "\t\t\t# swapping it with last column and\n",
    "\t\t\t# reducing number of columns by 1.\n",
    "\t\t\telse:\n",
    "\t\t\t\treduce = True\n",
    "\t\t\t\t\n",
    "\t\t\t\t# Find the non-zero element\n",
    "\t\t\t\t# in current column\n",
    "\t\t\t\tfor i in range(row + 1, self.R, 1):\n",
    "\t\t\t\t\t\n",
    "\t\t\t\t\t# Swap the row with non-zero\n",
    "\t\t\t\t\t# element with this row.\n",
    "\t\t\t\t\tif Matrix[i][row] != 0:\n",
    "\t\t\t\t\t\tself.swap(Matrix, row, i, rank)\n",
    "\t\t\t\t\t\treduce = False\n",
    "\t\t\t\t\t\tbreak\n",
    "\t\t\t\t\t\t\n",
    "\t\t\t\t# If we did not find any row with\n",
    "\t\t\t\t# non-zero element in current\n",
    "\t\t\t\t# column, then all values in\n",
    "\t\t\t\t# this column are 0.\n",
    "\t\t\t\tif reduce:\n",
    "\t\t\t\t\t\n",
    "\t\t\t\t\t# Reduce number of columns\n",
    "\t\t\t\t\trank -= 1\n",
    "\t\t\t\t\t\n",
    "\t\t\t\t\t# copy the last column here\n",
    "\t\t\t\t\tfor i in range(0, self.R, 1):\n",
    "\t\t\t\t\t\tMatrix[i][row] = Matrix[i][rank]\n",
    "\t\t\t\t\t\t\n",
    "\t\t\t\t# process this row again\n",
    "\t\t\t\trow -= 1\n",
    "\t\t\t\t\n",
    "\t\t# self.Display(Matrix, self.R,self.C)\n",
    "\t\treturn (rank)\n",
    "\n",
    "# Driver Code\n",
    "if __name__ == '__main__':\n",
    "\tMatrix = [[10, 20, 10],\n",
    "\t\t\t[-20, -30, 10],\n",
    "\t\t\t[30, 50, 0]]\n",
    "\tRankMatrix = rankMatrix(Matrix)\n",
    "\tprint (\"Rank of the Matrix is:\",\n",
    "\t\t(RankMatrix.rankOfMatrix(Matrix)))\n",
    "\n",
    "\n",
    "\n",
    "\n",
    "\n",
    "      \n",
    "                \n",
    "                \n",
    "                 \n",
    "                 \n",
    "               "
   ]
  },
  {
   "cell_type": "code",
   "execution_count": null,
   "id": "9959bd81",
   "metadata": {},
   "outputs": [],
   "source": [
    "\n",
    "\n"
   ]
  },
  {
   "cell_type": "code",
   "execution_count": 22,
   "id": "ac443d80",
   "metadata": {},
   "outputs": [
    {
     "name": "stdout",
     "output_type": "stream",
     "text": [
      "\n",
      "Generated Matrix: [[0.25322791 0.99249914 0.78692971 0.10459126]\n",
      " [0.22720487 0.96883742 0.79980218 0.88917158]\n",
      " [0.28608186 0.31685692 0.5964002  0.57763191]\n",
      " [0.97515283 0.74874442 0.02978661 0.53523997]\n",
      " [0.41404111 0.32982676 0.08579154 0.7232963 ]]\n",
      "\n",
      "Rank of matrix 4\n",
      "Columns of matrix is  4\n",
      "\n",
      "Gram Schmidt Process is applicable. Columns: 4, Rank: 4\n"
     ]
    }
   ],
   "source": [
    "def gram_schmidt_applicable(m):\n",
    "    RankMatrix = rankMatrix(m)\n",
    "    rank = RankMatrix.rankOfMatrix(m)\n",
    "    print(\"Rank of matrix\", rank)\n",
    "    columns = len(m[0])\n",
    "    print(\"Columns of matrix is \", columns)\n",
    "    if rank == columns:\n",
    "        print(\"\\nGram Schmidt Process is applicable. Columns: {}, Rank: {}\".format(columns, rank))\n",
    "    else:\n",
    "        print(\"\\nGram Schmidt Process is not applicable. Columns: {}, Rank: {}\".format(columns, rank))\n",
    "\n",
    "matrix =(mat)\n",
    "print(\"\\nGenerated Matrix: {}\\n\".format(matrix))\n",
    "gram_schmidt_applicable(matrix)"
   ]
  },
  {
   "cell_type": "markdown",
   "id": "d1691994",
   "metadata": {},
   "source": [
    "part c"
   ]
  },
  {
   "cell_type": "code",
   "execution_count": null,
   "id": "50826686",
   "metadata": {},
   "outputs": [],
   "source": []
  },
  {
   "cell_type": "code",
   "execution_count": 24,
   "id": "7b7daa52",
   "metadata": {},
   "outputs": [
    {
     "name": "stdout",
     "output_type": "stream",
     "text": [
      "\n",
      "Generated Matrices: \n",
      "[[0.01922597 0.31384041 0.76530682 0.46466871]\n",
      " [0.66615977 0.87617022 0.60648072 0.15433642]\n",
      " [0.0042923  0.3669355  0.66756648 0.82781234]\n",
      " [0.57951573 0.33641881 0.31958251 0.68203526]\n",
      " [0.20928453 0.95196222 0.31437733 0.92812838]]\n",
      "\n",
      "Gram Schmidt Orthogonalisation for the generated Matrix: \n",
      "[[ 0.02118257  0.31707928  0.69394611 -0.15696667]\n",
      " [ 0.7339538   0.08642499  0.00556513 -0.63208038]\n",
      " [ 0.00472912  0.39444042  0.51553926  0.3185787 ]\n",
      " [ 0.63849213 -0.38902079  0.14098926  0.62472587]\n",
      " [ 0.23058308  0.76489936 -0.48244081  0.28993285]]\n",
      "\n"
     ]
    }
   ],
   "source": [
    "from numpy import array, zeros\n",
    "import copy\n",
    "\n",
    "\n",
    "def calculate_l2_norm_1D(sample):\n",
    "    sum_up = 0\n",
    "    for i in sample:\n",
    "        sum_up += i **2\n",
    "    return sqrt(sum_up)\n",
    "\n",
    "def gram_schmidt_Q_vector(mat):\n",
    "    rows, cols = mat.shape\n",
    "    Q_vec = zeros((rows, cols))\n",
    "    for j in range(cols):\n",
    "        v = mat[:, j]\n",
    "        for k in range(j):\n",
    "            q = Q_vec[:, k]\n",
    "            v = v - q.dot(v) * q\n",
    "\n",
    "        Q_vec[:, j] = v / calculate_l2_norm_1D(v)\n",
    "    return Q_vec\n",
    "\n",
    "def compute_R_vector(matrix, Q_Vector):\n",
    "    return Q_Vector.T @ matrix\n",
    "\n",
    "\n",
    "while True:\n",
    "    matrices = randomization_matrix(m,n)\n",
    "    matrices_to_process = copy.deepcopy(matrices) ## Somehow values are getting changed due to shallow copy\n",
    "    rankobj = rankMatrix(matrices_to_process)\n",
    "    if rankobj.rankOfMatrix(matrices_to_process) == matrices_to_process.shape[1]:\n",
    "        print(\"\\nGenerated Matrices: \\n{}\\n\".format(matrices))\n",
    "        break\n",
    "        \n",
    "print(\"Gram Schmidt Orthogonalisation for the generated Matrix: \\n{}\\n\".format(gram_schmidt_Q_vector(matrices)))\n",
    "\n",
    "\n",
    "\n",
    "\n",
    "\n"
   ]
  },
  {
   "cell_type": "markdown",
   "id": "87236a50",
   "metadata": {},
   "source": [
    "iv) Write a code to create a QR decomposition of the matrix A by utilizing\n",
    "the code developed in the previous sub-parts of this question. Find the\n",
    "matrices Q and R and then display the value ∥A − (Q.R)∥F , where\n",
    "∥ · ∥F is the Frobenius norm. The code should also display the total\n",
    "number of additions, multiplications and divisions to find the result"
   ]
  },
  {
   "cell_type": "code",
   "execution_count": 40,
   "id": "a964b8ab",
   "metadata": {},
   "outputs": [
    {
     "name": "stdout",
     "output_type": "stream",
     "text": [
      "[[0.23883402 0.24198888 0.42304007 0.07593953]\n",
      " [0.38383901 0.95064118 0.22698462 0.44343557]\n",
      " [0.74667113 0.48810867 0.49940192 0.83023907]\n",
      " [0.15100674 0.89865382 0.92421622 0.62266766]\n",
      " [0.05627124 0.33445383 0.61972264 0.9769303 ]]\n",
      "[[ 0.26907373 -0.04359122  0.32451414 -0.59578951]\n",
      " [ 0.43243836  0.49323597 -0.68351842  0.12463165]\n",
      " [ 0.84121007 -0.40545156  0.13364569  0.13554179]\n",
      " [ 0.17012629  0.72016341  0.36826738 -0.31182517]\n",
      " [ 0.06339596  0.26793989  0.52346071  0.71686491]]\n",
      "[[ 8.87615533e-01  1.06089616e+00  8.28609149e-01  1.07846293e+00]\n",
      " [-6.45359908e-17  9.97228529e-01  7.22667971e-01  5.88967399e-01]\n",
      " [ 4.26674070e-17  1.58597879e-16  7.13636360e-01  5.73197749e-01]\n",
      " [-1.26773827e-16 -1.79117491e-16 -2.86666049e-17  6.28717822e-01]]\n",
      "[[0.23883402 0.24198888 0.42304007 0.07593953]\n",
      " [0.38383901 0.95064118 0.22698462 0.44343557]\n",
      " [0.74667113 0.48810867 0.49940192 0.83023907]\n",
      " [0.15100674 0.89865382 0.92421622 0.62266766]\n",
      " [0.05627124 0.33445383 0.61972264 0.9769303 ]]\n",
      "\n",
      "Value of ||A - (Q.R)|| (Frobenius): 0.0\n",
      "\n",
      "\n",
      "Total Number of Addition, Division, Multiplication are: 280\n",
      "\n"
     ]
    }
   ],
   "source": [
    "def total_operation(matrix):\n",
    "    m,n = matrix.shape\n",
    "    addition_Q = ((n * (m-1) * m)/2) + (n-1)*m\n",
    "    division_Q = m*n\n",
    "    multiplication_Q = n*m**2\n",
    "    total_operation_Q = addition_Q + division_Q + multiplication_Q\n",
    "    \n",
    "    \n",
    "    addition_R = (m*(m+1)*(n-1))/2\n",
    "    multiplcation_R = (m*(m+1)*n)/2\n",
    "    total_operation_R = addition_R + multiplcation_R\n",
    "    \n",
    "    total_operation = total_operation_Q + total_operation_R\n",
    "    print(\"\\nTotal Number of Addition, Division, Multiplication are: {}\\n\".format(int(total_operation)))\n",
    "\n",
    "A= randomization_matrix(m,n)\n",
    "Q = gram_schmidt_Q_vector(A)\n",
    "R = compute_R_vector(A, Q)\n",
    "print(\"\\nValue of ||A - (Q.R)|| (Frobenius): {}\\n\".format(fbnsnorm(A - Q.dot(R))))\n",
    "total_operation(A)"
   ]
  },
  {
   "cell_type": "code",
   "execution_count": null,
   "id": "712497fd",
   "metadata": {},
   "outputs": [],
   "source": []
  },
  {
   "cell_type": "markdown",
   "id": "b2ba9bca",
   "metadata": {},
   "source": [
    "# Q2 Gradient Descent Algorithm"
   ]
  },
  {
   "cell_type": "markdown",
   "id": "1f949053",
   "metadata": {},
   "source": [
    "i) Consider the last 4 digits of your mobile number (Note : In case there\n",
    "is a 0 in one of the digits replace it by 3). Let it be n1n2n3n4. Generate\n",
    "a random matrix A of size n1n2 × n3n4. For example, if the last four\n",
    "digits are 2311, generate a random matrix of size 23 × 11. Write a code\n",
    "to calculate the l∞ norm of this matrix."
   ]
  },
  {
   "cell_type": "code",
   "execution_count": 41,
   "id": "a0813fe6",
   "metadata": {},
   "outputs": [
    {
     "name": "stdout",
     "output_type": "stream",
     "text": [
      "A\n",
      " [[6 6 8 5 1 0 8 2 8 9 1]\n",
      " [7 9 1 5 1 8 3 6 1 2 4]\n",
      " [2 3 9 1 8 5 1 3 6 0 6]\n",
      " [3 4 2 4 8 7 9 6 2 0 6]\n",
      " [9 7 8 7 9 7 1 7 1 8 6]\n",
      " [3 3 0 0 5 9 1 5 5 2 0]\n",
      " [5 8 1 3 1 7 8 8 1 0 0]\n",
      " [3 5 2 0 7 1 9 4 6 5 9]\n",
      " [6 6 2 4 5 1 4 6 0 1 9]\n",
      " [2 8 6 5 6 7 4 7 2 2 3]\n",
      " [6 2 5 5 6 3 1 4 9 6 6]] \n",
      "\n",
      "l∞ norm of matrix A of size n1n2 × n3n4 : 70\n"
     ]
    }
   ],
   "source": [
    "import numpy as np\n",
    "import matplotlib.pyplot as plt\n",
    "import seaborn as sns\n",
    "A = np.random.randint(10,size=(11,11)) # random matrix A of size n1n2 × n3n4\n",
    "b = np.random.randint(10,size=(11,1)) # vector b of size n1n2 × 1\n",
    "print('A\\n', A, '\\n')\n",
    "#print('b\\n', b, '\\n')\n",
    "n1n2, n3n4 = A.shape\n",
    "rowsums = []\n",
    "for i in np.arange(n1n2):\n",
    " v = np.sum(np.absolute(A[i, :]))\n",
    " rowsums.append(v)\n",
    "print(\"l∞ norm of matrix A of size n1n2 × n3n4 :\",np.max(rowsums))\n"
   ]
  },
  {
   "cell_type": "code",
   "execution_count": 63,
   "id": "818fc19c",
   "metadata": {},
   "outputs": [
    {
     "name": "stdout",
     "output_type": "stream",
     "text": [
      "7525\n",
      "7525\n",
      "7525\n",
      "[380.05583, 303.46488, 322.22765, 259.28175, 273.82824, 222.21644, 233.30071, 191.09864, 199.34707, 164.94968]\n"
     ]
    }
   ],
   "source": [
    "def Gradient_Descent(gradient, start, learn_rate, n_iterations=50, tolerance=1e-5):\n",
    "    vector = start\n",
    "    for _ in range(n_iterations):\n",
    "        diff = -learn_rate * gradient(vector)\n",
    "        if np.all(np.abs(diff) <= tolerance):\n",
    "            breakvector += difff\n",
    "        vector += diff\n",
    "    return vector\n",
    " \n",
    "def tau(gk,A):\n",
    "    numarator = gk.transpose() @ gk\n",
    "    denominator = gk.transpose() @ A.transpose() @ A @ gk\n",
    "    tau = np.divide(numarator, denominator) # τ = gk^T gk / gk^T A^T Agk\n",
    "    return tau\n",
    "\n",
    "def GDIterations(A,b,error=1e-5):\n",
    "    x = np.random.randint(10,size=(11,1))\n",
    "    norm = np.round(a= np.linalg.norm(x=x, ord=2), decimals=5)\n",
    "    function = 0.5 * np.square(A @ x - b) # f(x) = 1/2∥Ax − b∥^2 2\n",
    "    function_norm = np.round(a=np.linalg.norm(x=function, ord=2), decimals=5)\n",
    "    iteration = 0\n",
    "    x_list = list()\n",
    "    fx_list = list()\n",
    "    \n",
    "    while abs(norm) > error:\n",
    "        df = A.transpose() @ A @ x - A.transpose() @ b # ∇f(x) = A⊤Ax − A⊤b.\n",
    "        tau_value = tau(gk=df, A=A)\n",
    "        xprev = x\n",
    "        x = x - tau_value * df\n",
    "        x_minus_prev = x - xprev\n",
    "        function = 0.5 * np.square(A @ x - b)\n",
    "        function_norm = np.round(a=np.linalg.norm(x=function, ord=2), decimals=5)\n",
    "        norm = np.round(a=np.linalg.norm(x=x_minus_prev, ord=2), decimals=5)\n",
    "        x_list.append(x)\n",
    "        fx_list.append(function_norm)\n",
    "        iteration = iteration + 1\n",
    "    return x_list, fx_list, iteration\n",
    "\n",
    "x_list, fx_list, iteration = GDIterations(A=A,b=b,error=1e-5)\n",
    "print(len(x_list))\n",
    "print(len(fx_list))\n",
    "print((iteration))\n",
    "print(fx_list[50:60])\n",
    "\n",
    "#Gradient_Descent(gradient=lambda v: A.transpose() @ A @ x - A.transpose() @ b,start=np.random.randn(11,1),\n",
    "                 #learn_rate=tau_value,tolerance=1e-5)   \n",
    "    "
   ]
  },
  {
   "cell_type": "markdown",
   "id": "1fb1add0",
   "metadata": {},
   "source": [
    "iii) Generate the graph of f(xk) vs k where k is the iteration number and\n",
    "xk is the current estimate of x at iteration k. This graph should convey\n",
    "the decreasing nature of function values."
   ]
  },
  {
   "cell_type": "code",
   "execution_count": 68,
   "id": "0aa29f69",
   "metadata": {},
   "outputs": [
    {
     "data": {
      "image/png": "[encoded data removed]",
      "text/plain": [
       "<Figure size 1080x504 with 1 Axes>"
      ]
     },
     "metadata": {
      "needs_background": "light"
     },
     "output_type": "display_data"
    }
   ],
   "source": [
    "step_size = [x for x in range(iteration)]\n",
    "plt.figure(figsize =[15,7])\n",
    "sns.lineplot(x = step_size, y = fx_list)\n",
    "plt.xlabel(\"iteration\")\n",
    "plt.ylabel(\"f(xk)\")\n",
    "plt.xlim([-1,500]) #these values are taken to zoom in the graphs because it was not visible\n",
    "plt.ylim([-1,500])#these values are taken to zoom in the graphs because it was not visible\n",
    "plt.show()\n"
   ]
  },
  {
   "cell_type": "code",
   "execution_count": null,
   "id": "0b3296d6",
   "metadata": {},
   "outputs": [],
   "source": []
  },
  {
   "cell_type": "code",
   "execution_count": null,
   "id": "1ec6526b",
   "metadata": {},
   "outputs": [],
   "source": []
  }
 ],
 "metadata": {
  "kernelspec": {
   "display_name": "Python 3",
   "language": "python",
   "name": "python3"
  },
  "language_info": {
   "codemirror_mode": {
    "name": "ipython",
    "version": 3
   },
   "file_extension": ".py",
   "mimetype": "text/x-python",
   "name": "python",
   "nbconvert_exporter": "python",
   "pygments_lexer": "ipython3",
   "version": "3.8.8"
  }
 },
 "nbformat": 4,
 "nbformat_minor": 5
}
